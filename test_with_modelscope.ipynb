{
 "cells": [
  {
   "cell_type": "code",
   "execution_count": null,
   "metadata": {},
   "outputs": [],
   "source": [
    "from modelscope.pipelines import pipeline\n",
    "from modelscope.outputs import OutputKeys\n",
    "import pathlib\n",
    "import shutil\n",
    "import os\n",
    "import torch\n",
    "\n",
    "\n",
    "# Download from https://huggingface.co/ali-vilab/modelscope-damo-text-to-video-synthesis/tree/main\n",
    "model_path = \"modelscope_t2v_files/modelscope-damo-text-to-video-synthesis\"\n",
    "\n",
    "pipe = pipeline('text-to-video-synthesis', model_path)\n",
    "\n"
   ]
  },
  {
   "cell_type": "code",
   "execution_count": null,
   "metadata": {},
   "outputs": [],
   "source": [
    "# choose a target identity's embeddings\n",
    "index = \"00790\"\n",
    "save_dir = \"results/\" + index + \"/with_modelscope\"\n",
    "os.makedirs(save_dir, exist_ok=True)\n",
    "\n",
    "learned_embeddings_path = f\"experiments512/save_{index}/{index}-450.pt\"\n",
    "learned_embeddings = torch.load(learned_embeddings_path).cuda()\n",
    "\n",
    "# save for loading in anaconda3/envs/your_env/lib/python3.8/site-packages/modelscope/models/multi_modal/video_synthesis/text_to_video_synthesis_model.py\n",
    "torch.save(learned_embeddings, \"modelscope_t2v_files/tmp.pt\")\n",
    "\n",
    "\n",
    "test_text = {'text': ''}\n",
    "# placeholders is \"person person\"\n",
    "prompt_list = [\n",
    "    'person person wiping face in front of the camera, face to the camera.',\n",
    "    'person person laughing, face to the camera.',    \n",
    "    \"person person sleeping, face to the camera.\"\n",
    "    'person person is eating a burger, face to the camera.'\n",
    "    ] * 100  \n",
    "\n",
    "\n",
    "for count, i in enumerate(prompt_list):\n",
    "    test_text['text'] = i\n",
    "    output_video_path = pipe(test_text)[OutputKeys.OUTPUT_VIDEO]\n",
    "    # print('output_video_path:', output_video_path)\n",
    "\n",
    "    destination_path = os.path.join(save_dir, test_text[\"text\"] + str(count) + \".mp4\")\n",
    "    shutil.move(output_video_path, destination_path)\n",
    "    print(destination_path)"
   ]
  },
  {
   "cell_type": "code",
   "execution_count": null,
   "metadata": {},
   "outputs": [],
   "source": []
  }
 ],
 "metadata": {
  "kernelspec": {
   "display_name": "id_diff",
   "language": "python",
   "name": "python3"
  },
  "language_info": {
   "codemirror_mode": {
    "name": "ipython",
    "version": 3
   },
   "file_extension": ".py",
   "mimetype": "text/x-python",
   "name": "python",
   "nbconvert_exporter": "python",
   "pygments_lexer": "ipython3",
   "version": "3.8.5"
  }
 },
 "nbformat": 4,
 "nbformat_minor": 2
}
